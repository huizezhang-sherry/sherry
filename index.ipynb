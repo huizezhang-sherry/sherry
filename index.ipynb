{
  "cells": [
    {
      "cell_type": "raw",
      "metadata": {},
      "source": [
        "---\n",
        "title: \"H. Sherry Zhang\"\n",
        "image: avatar.jpeg\n",
        "about: \n",
        "  template: jolla\n",
        "  links: \n",
        "    - icon: twitter\n",
        "      text: Twitter\n",
        "      href: https://twitter.com/huizezhangsh\n",
        "    - icon: github\n",
        "      text: Github\n",
        "      href: https://github.com/huizezhang-sherry\n",
        "    - icon: envelope-fill\n",
        "      text: Email\n",
        "      href: \"mailto:huize.Zhang@austin.utexas.edu\"\n",
        "    - icon: person-lines-fill\n",
        "      text: CV\n",
        "      href: cv/H.Sherry-Zhang.pdf\n",
        "# icons are from: https://icons.getbootstrap.com/\n",
        "---"
      ],
      "id": "d6e5325e"
    },
    {
      "cell_type": "markdown",
      "metadata": {},
      "source": [
        "```{css, echo = FALSE}\n",
        ".justify {\n",
        "  text-align: justify !important\n",
        "}\n",
        "```\n",
        "\n",
        "\n",
        "\n",
        "::: {.justify}\n",
        "I am a Postdoc Research Fellow in the Department of Statistics and Data Science at the University of Texas at Austin with [Roger Peng](https://rdpeng.org/). I receive my PhD from Monash University in 2023 and my topic is on providing data wrangling and visualisation tools for analysing multivariate spatio-temporal data.\n",
        "\n",
        "**News: **\n",
        "\n",
        "- The paper [cubble: An R Package for Organizing and Wrangling Multivariate Spatio-temporal Data](https://arxiv.org/abs/2205.00259) is accepted by the Journal of Statistical Software.\n",
        "\n",
        "- My R package `cubble` wins the [John M. Chambers Statistical Software Award](https://community.amstat.org/jointscsg-section/awards/john-m-chambers)\n",
        "\n",
        "<!--# supervised by Di Cook, Patricia Menéndez, Ursula Laa, and Nicolas Langrené.  -->\n",
        "\n",
        "<!-- One of my projects, [ferrn](https://github.com/huizezhang-sherry/ferrn), focuses on creating diagnostic plots to understand the optimisers in projection pursuit, a multivariate dimension reduction method. I have also been working on a spatio-temporal data class, [cubble](https://github.com/huizezhang-sherry/cubble) (cubical-tibble), to help with data wrangling and making glyph maps. -->\n",
        "\n",
        "<img src=\"https://ghchart.rshah.org/huizezhang-sherry\" alt=\"Sherry Zhang&apos;s Github chart\"/>\n",
        ":::"
      ],
      "id": "fa174925"
    }
  ],
  "metadata": {
    "kernelspec": {
      "display_name": "Python 3",
      "language": "python",
      "name": "python3"
    }
  },
  "nbformat": 4,
  "nbformat_minor": 5
}